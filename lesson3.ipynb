{
 "cells": [
  {
   "cell_type": "code",
   "execution_count": 28,
   "metadata": {},
   "outputs": [],
   "source": [
    "import numpy as np\n",
    "import pandas as pd\n",
    "from matplotlib import pyplot as plt\n",
    "import warnings\n",
    "warnings.filterwarnings(\"ignore\")"
   ]
  },
  {
   "cell_type": "markdown",
   "metadata": {},
   "source": [
    "### Задача 1\n",
    "#### Даны значения зарплат из выборки выпускников: \n",
    "#### 100, 80, 75, 77, 89, 33, 45, 25, 65, 17, 30, 24, 57, 55, 70, 75, 65, 84, 90, 150\n",
    "#### Без использования статистических функций вроде mean, std, var, посчитать среднее арифметическое, среднее квадратичное отклонение, смещенную и несмещенную оценки дисперсий для данной выборки. Можно затем посчитать те же значения с использованием статистических функций, чтобы проверить себя."
   ]
  },
  {
   "cell_type": "code",
   "execution_count": 118,
   "metadata": {},
   "outputs": [],
   "source": [
    "salary = np.array([100, 80, 75, 77, 89, 33, 45, 25, 65, 17, 30, 24, 57, 55, 70, 75, 65, 84, 90, 150])"
   ]
  },
  {
   "cell_type": "code",
   "execution_count": 18,
   "metadata": {},
   "outputs": [],
   "source": [
    "mean_salary = sum(salary) / len(salary)"
   ]
  },
  {
   "cell_type": "code",
   "execution_count": 19,
   "metadata": {},
   "outputs": [],
   "source": [
    "var_biased = sum((salary - mean_salary)**2)/ len(salary)"
   ]
  },
  {
   "cell_type": "code",
   "execution_count": 20,
   "metadata": {},
   "outputs": [],
   "source": [
    "var_unbiased = sum((salary - mean_salary)**2)/ (len(salary) - 1)"
   ]
  },
  {
   "cell_type": "code",
   "execution_count": 21,
   "metadata": {},
   "outputs": [],
   "source": [
    "std_salary = np.sqrt(var_biased)"
   ]
  },
  {
   "cell_type": "code",
   "execution_count": 22,
   "metadata": {},
   "outputs": [
    {
     "data": {
      "text/plain": [
       "(65.3, 30.823854398825596, 950.11, 1000.1157894736842)"
      ]
     },
     "execution_count": 22,
     "metadata": {},
     "output_type": "execute_result"
    }
   ],
   "source": [
    "mean_salary,std_salary, var_biased, var_unbiased"
   ]
  },
  {
   "cell_type": "code",
   "execution_count": 24,
   "metadata": {},
   "outputs": [
    {
     "data": {
      "text/plain": [
       "(65.3, 30.823854398825596, 950.11, 1000.1157894736842)"
      ]
     },
     "execution_count": 24,
     "metadata": {},
     "output_type": "execute_result"
    }
   ],
   "source": [
    "salary.mean(), salary.std(), salary.var(), salary.var(ddof=1) # проверка"
   ]
  },
  {
   "cell_type": "markdown",
   "metadata": {},
   "source": [
    "### Задача 2\n",
    "\n",
    "#### Для выборки из задачи 1 найти первый и третий квартили, интерквартильное расстояние. Найти выборсы в выборке, используя для этого \"усы\" из boxplot. В этой задаче можно использовать статистические функции."
   ]
  },
  {
   "cell_type": "code",
   "execution_count": 119,
   "metadata": {
    "scrolled": true
   },
   "outputs": [
    {
     "data": {
      "text/plain": [
       "array([42., 81.])"
      ]
     },
     "execution_count": 119,
     "metadata": {},
     "output_type": "execute_result"
    }
   ],
   "source": [
    "np.quantile(salary, [0.25, 0.75]) # первый и третий квартили"
   ]
  },
  {
   "cell_type": "code",
   "execution_count": 120,
   "metadata": {},
   "outputs": [
    {
     "data": {
      "text/plain": [
       "39.0"
      ]
     },
     "execution_count": 120,
     "metadata": {},
     "output_type": "execute_result"
    }
   ],
   "source": [
    "np.quantile(salary, [0.25, 0.75])[1] - np.quantile(salary, [0.25, 0.75])[0] # интерквартильный размах"
   ]
  },
  {
   "cell_type": "code",
   "execution_count": 121,
   "metadata": {},
   "outputs": [],
   "source": [
    "df_salary = pd.DataFrame(salary, columns=[\"amount\"])"
   ]
  },
  {
   "cell_type": "code",
   "execution_count": 122,
   "metadata": {},
   "outputs": [
    {
     "data": {
      "image/png": "[encoded data removed]",
      "text/plain": [
       "<Figure size 432x288 with 1 Axes>"
      ]
     },
     "metadata": {
      "needs_background": "light"
     },
     "output_type": "display_data"
    }
   ],
   "source": [
    "a = df_salary[[\"amount\"]].boxplot(return_type ='dict')"
   ]
  },
  {
   "cell_type": "code",
   "execution_count": 93,
   "metadata": {},
   "outputs": [
    {
     "data": {
      "text/plain": [
       "{'whiskers': [<matplotlib.lines.Line2D at 0x163ec18ac88>,\n",
       "  <matplotlib.lines.Line2D at 0x163ec18afd0>],\n",
       " 'caps': [<matplotlib.lines.Line2D at 0x163ec197358>,\n",
       "  <matplotlib.lines.Line2D at 0x163ec1976a0>],\n",
       " 'boxes': [<matplotlib.lines.Line2D at 0x163ec18a898>],\n",
       " 'medians': [<matplotlib.lines.Line2D at 0x163ec1979e8>],\n",
       " 'fliers': [<matplotlib.lines.Line2D at 0x163ec197d30>],\n",
       " 'means': []}"
      ]
     },
     "execution_count": 93,
     "metadata": {},
     "output_type": "execute_result"
    }
   ],
   "source": [
    "a # посмотрим, какие объекты содержит ящик:"
   ]
  },
  {
   "cell_type": "code",
   "execution_count": 126,
   "metadata": {},
   "outputs": [
    {
     "data": {
      "text/plain": [
       "array([150])"
      ]
     },
     "execution_count": 126,
     "metadata": {},
     "output_type": "execute_result"
    }
   ],
   "source": [
    "a['fliers'][0].get_ydata() # нам нужны выбросы, т.е. fliers:"
   ]
  },
  {
   "cell_type": "markdown",
   "metadata": {},
   "source": [
    "### Задача 3\n",
    "\n",
    "#### В университет на факультеты A и B поступило равное количество студентов, а на факультет C студентов поступило столько же, сколько на A и B вместе. Вероятность того, что студент факультета A сдаст первую сессию, равна 0.8. Для студента факультета B эта вероятность равна 0.7, а для студента факультета C - 0.9. Студент сдал первую сессию. Какова вероятность, что он учится: a) на факультете A? б) на факультете B? в) на факультете C? Замечание: да, эта задача не на тему описательных статистик, но тема важная, и её стоит иногда освежать в памяти."
   ]
  },
  {
   "cell_type": "markdown",
   "metadata": {},
   "source": [
    "#### События: A - студент факультета А, B - студент факультета B, C - студент факультета C, Pass - сдал экзамен\n",
    "$P(A)=\\dfrac{1}{4}$, $P(B)=\\dfrac{1}{4}$, $P(C)=\\dfrac{1}{2} $\n",
    "\n",
    "$P(Pass|A)=0.8$, $P(Pass|B)=0.7$, $P(Pass|C)=0.9 $\n",
    "#### Полная вероятность того, что студент сдал сессию: \n",
    "$P(Pass) = P(A)P(Pass|A) + P(B)P(Pass|B) + P(C)P(Pass|C) = \\dfrac{1}{4}\\cdot0.8 + \\dfrac{1}{4}\\cdot0.7 + \\dfrac{1}{2}\\cdot0.9 = 0.825$\n",
    "#### Искомые вероятности:\n",
    "$P(A|Pass) = \\dfrac {P(A)P(Pass|A)} {P(Pass)} =  \\dfrac{\\dfrac{1}{4}\\cdot0.8}{0.825} \\approx 0.24 $\n",
    "\n",
    "$P(B|Pass) = \\dfrac {P(B)P(Pass|B)} {P(Pass)} =  \\dfrac{\\dfrac{1}{4}\\cdot0.7}{0.825} \\approx 0.21$\n",
    "\n",
    "$P(C|Pass) = \\dfrac {P(C)P(Pass|C)} {P(Pass)} =  \\dfrac{\\dfrac{1}{2}\\cdot0.9}{0.825} \\approx 0.55$"
   ]
  },
  {
   "cell_type": "code",
   "execution_count": null,
   "metadata": {},
   "outputs": [],
   "source": []
  },
  {
   "cell_type": "code",
   "execution_count": null,
   "metadata": {},
   "outputs": [],
   "source": []
  }
 ],
 "metadata": {
  "kernelspec": {
   "display_name": "Python 3",
   "language": "python",
   "name": "python3"
  },
  "language_info": {
   "codemirror_mode": {
    "name": "ipython",
    "version": 3
   },
   "file_extension": ".py",
   "mimetype": "text/x-python",
   "name": "python",
   "nbconvert_exporter": "python",
   "pygments_lexer": "ipython3",
   "version": "3.7.1"
  }
 },
 "nbformat": 4,
 "nbformat_minor": 2
}
