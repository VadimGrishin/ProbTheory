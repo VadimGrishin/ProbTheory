{
 "cells": [
  {
   "cell_type": "code",
   "execution_count": 1,
   "metadata": {},
   "outputs": [],
   "source": [
    "import numpy as np\n",
    "from scipy import stats"
   ]
  },
  {
   "cell_type": "markdown",
   "metadata": {},
   "source": [
    "### Задача 1\n",
    "#### Утверждается, что шарики для подшипников, изготовленные автоматическим станком, имеют средний диаметр 17 мм. Используя уровень значимости 0.025 и правостороннюю критическую область, проверить данную гипотезу при условии, что в выборке из 100 шариков средний диаметр оказался равным 17.5 мм, а дисперсия известна и равна 4 мм.\n",
    "\n",
    "\n"
   ]
  },
  {
   "cell_type": "markdown",
   "metadata": {},
   "source": [
    "Считаем распределение диаметра нормальным (отклонения обусловлены большим количеством мелких независимых случайных факторов).\n",
    "\n",
    "- Уровень значимости $\\alpha = 0.025$.\n",
    "\n",
    "- Гипотеза H0: $\\mu = 17$. \n",
    "\n",
    "- Cтандартное отклонение $\\sigma = \\sqrt{4} = 2$\n",
    "\n",
    "Для выбранного уровня значимости  для случайной величины $T(X) = \\dfrac{1}{n} \\displaystyle\\sum_{i = 1}^n x_i$ по правилу 2-х $\\sigma$ правосторонняя критическая область будет следующей: $\\left( 17 + 2 \\cdot \\dfrac{2}{\\sqrt{100}},  \\infty \\right) $, т.е. $T \\ge 17.4$.\n",
    "\n",
    "### Таким образом, гипотеза отвергнута."
   ]
  },
  {
   "cell_type": "markdown",
   "metadata": {},
   "source": [
    "#### --------------------------------------------------------"
   ]
  },
  {
   "cell_type": "markdown",
   "metadata": {},
   "source": [
    "### Задача 2\n",
    "\n",
    "#### Известно, что генеральная совокупность распределена нормально со средним квадратическим отклонением 16. Найти доверительный интервал для оценки математического ожидания a с надежностью 0.95, если выборочное среднее равно 80, а объём равен 256.\n"
   ]
  },
  {
   "cell_type": "markdown",
   "metadata": {},
   "source": [
    "Снова используем правило 2 $\\sigma$ для нормально распределенной случайной величины $T(X) = \\dfrac{1}{n} \\displaystyle\\sum_{i = 1}^n x_i$. \n",
    "\n",
    "Для доверительного интервала оценка следующая: \n",
    "### $\\left( 80 - 2 \\cdot \\dfrac{16}{\\sqrt{256}}, 80 + 2 \\cdot \\dfrac{16}{\\sqrt{256}} \\right) = (78, 82)$"
   ]
  },
  {
   "cell_type": "markdown",
   "metadata": {},
   "source": [
    "#### --------------------------------------------------------"
   ]
  },
  {
   "cell_type": "markdown",
   "metadata": {},
   "source": [
    "### Задача 3\n",
    "\n",
    "Продавец утверждает, что средний вес пачки печенья составляет 200 г. Из партии извлечена выборка из 10 пачек. Вес каждой пачки составляет:\n",
    "\n",
    "202, 203, 199, 197, 195, 201, 200, 204, 194, 190\n",
    "\n",
    "#### Известно, что их веса распределены нормально. Верно ли утверждение продавца, если учитывать, что доверительная вероятность равна 99%?"
   ]
  },
  {
   "cell_type": "code",
   "execution_count": 2,
   "metadata": {},
   "outputs": [],
   "source": [
    "w = np.array([202, 203, 199, 197, 195, 201, 200, 204, 194, 190])"
   ]
  },
  {
   "cell_type": "markdown",
   "metadata": {},
   "source": [
    "#### Гипотеза H0: $\\mu$ = 200"
   ]
  },
  {
   "cell_type": "code",
   "execution_count": 3,
   "metadata": {},
   "outputs": [
    {
     "data": {
      "text/plain": [
       "4.453463071962462"
      ]
     },
     "execution_count": 3,
     "metadata": {},
     "output_type": "execute_result"
    }
   ],
   "source": [
    "S = w.std(ddof=1)\n",
    "S"
   ]
  },
  {
   "cell_type": "markdown",
   "metadata": {},
   "source": [
    "#### В предположении нормальности $w$ случайная величина ${\\frac  {{\\bar  {X}}- \\mu }{S/{\\sqrt  {n}}}}$ имеет распределение Стъюдента с $n-1$ степенью свободы"
   ]
  },
  {
   "cell_type": "code",
   "execution_count": 4,
   "metadata": {},
   "outputs": [],
   "source": [
    "n = len(w)\n",
    "t = stats.t(n - 1) # создадим распределение Стъюдента с n-1 степенями свободы"
   ]
  },
  {
   "cell_type": "code",
   "execution_count": 5,
   "metadata": {},
   "outputs": [
    {
     "data": {
      "text/plain": [
       "3.2498355440153697"
      ]
     },
     "execution_count": 5,
     "metadata": {},
     "output_type": "execute_result"
    }
   ],
   "source": [
    "# Найдем квантиль\n",
    "t.ppf(0.995) # односторонний взгляд - percent point function обратная к cdf"
   ]
  },
  {
   "cell_type": "code",
   "execution_count": 6,
   "metadata": {},
   "outputs": [
    {
     "data": {
      "text/plain": [
       "(-3.2498355440153697, 3.2498355440153697)"
      ]
     },
     "execution_count": 6,
     "metadata": {},
     "output_type": "execute_result"
    }
   ],
   "source": [
    "t.interval(0.99) # то же самое в двустороннем варианте"
   ]
  },
  {
   "cell_type": "markdown",
   "metadata": {},
   "source": [
    "#### Из $ t_{1} \\le {\\frac  {{\\bar  {X}}- \\mu }{S/{\\sqrt  {n}}}} \\le t_{2} \\Rightarrow \\mu + t_{1} \\cdot $ ${\\frac {S}{\\sqrt  {n}} } \\le \\bar  {X} \\le \\mu + t_{2} \\cdot $ ${\\frac {S}{\\sqrt  {n}} }$\n",
    "#### Найдем этот интервал"
   ]
  },
  {
   "cell_type": "code",
   "execution_count": 7,
   "metadata": {},
   "outputs": [
    {
     "data": {
      "text/plain": [
       "(195.42322840036354, 204.57677159963646)"
      ]
     },
     "execution_count": 7,
     "metadata": {},
     "output_type": "execute_result"
    }
   ],
   "source": [
    "(200 + t.interval(0.99)[0] * S / np.sqrt(n), 200 + t.interval(0.99)[1] * S / np.sqrt(n))"
   ]
  },
  {
   "cell_type": "code",
   "execution_count": 8,
   "metadata": {},
   "outputs": [
    {
     "data": {
      "text/plain": [
       "198.5"
      ]
     },
     "execution_count": 8,
     "metadata": {},
     "output_type": "execute_result"
    }
   ],
   "source": [
    "m = w.mean() \n",
    "m"
   ]
  },
  {
   "cell_type": "markdown",
   "metadata": {},
   "source": [
    "#### Итак,  $\\bar  {X}=198.5 \\in (195.42322840036354, 204.57677159963646)$ "
   ]
  },
  {
   "cell_type": "markdown",
   "metadata": {},
   "source": [
    "### Гипотеза H0  не может быть отвергнута"
   ]
  },
  {
   "cell_type": "code",
   "execution_count": null,
   "metadata": {},
   "outputs": [],
   "source": []
  }
 ],
 "metadata": {
  "kernelspec": {
   "display_name": "Python 3",
   "language": "python",
   "name": "python3"
  },
  "language_info": {
   "codemirror_mode": {
    "name": "ipython",
    "version": 3
   },
   "file_extension": ".py",
   "mimetype": "text/x-python",
   "name": "python",
   "nbconvert_exporter": "python",
   "pygments_lexer": "ipython3",
   "version": "3.7.1"
  }
 },
 "nbformat": 4,
 "nbformat_minor": 2
}
